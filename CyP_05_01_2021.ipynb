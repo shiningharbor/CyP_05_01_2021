{
  "nbformat": 4,
  "nbformat_minor": 0,
  "metadata": {
    "colab": {
      "name": "CyP_05_01_2021.ipynb",
      "provenance": [],
      "authorship_tag": "ABX9TyO/KOfVptBdHRdxt4lArZev",
      "include_colab_link": true
    },
    "kernelspec": {
      "name": "python3",
      "display_name": "Python 3"
    }
  },
  "cells": [
    {
      "cell_type": "markdown",
      "metadata": {
        "id": "view-in-github",
        "colab_type": "text"
      },
      "source": [
        "<a href=\"https://colab.research.google.com/github/shiningharbor/CyP_05_01_2021/blob/main/CyP_05_01_2021.ipynb\" target=\"_parent\"><img src=\"https://colab.research.google.com/assets/colab-badge.svg\" alt=\"Open In Colab\"/></a>"
      ]
    },
    {
      "cell_type": "code",
      "metadata": {
        "colab": {
          "base_uri": "https://localhost:8080/"
        },
        "id": "44qvtECdSjzc",
        "outputId": "8566580d-2ae1-44e8-acba-79564e304448"
      },
      "source": [
        "# 3.3\r\n",
        "s = 0\r\n",
        "n = 0\r\n",
        "i = 1\r\n",
        "n = int(input(\"Intrduce un numero entero: \"))\r\n",
        "band = True\r\n",
        "while i <= n:\r\n",
        "  if band == True:\r\n",
        "    s = s+1/i\r\n",
        "    band = False\r\n",
        "    i= i+1\r\n",
        "  else :\r\n",
        "    s = s-1/i\r\n",
        "    band = True\r\n",
        "    i= i+1\r\n",
        "else:\r\n",
        "  print(f\"La suma total es: {s}\")"
      ],
      "execution_count": null,
      "outputs": [
        {
          "output_type": "stream",
          "text": [
            "Intrduce un numero entero: 1\n",
            "La suma total es: 1.5\n"
          ],
          "name": "stdout"
        }
      ]
    },
    {
      "cell_type": "code",
      "metadata": {
        "colab": {
          "base_uri": "https://localhost:8080/"
        },
        "id": "CLuw9Osti6Mi",
        "outputId": "96163f5c-5001-4990-83bd-5e8f8173ffa8"
      },
      "source": [
        "#3.4\r\n",
        "nom = 0\r\n",
        "sue = 0\r\n",
        "nsue = 0\r\n",
        "sue = int(input(\"Introduce el sueldo del trabajador: \"))\r\n",
        "while sue != -1:\r\n",
        "  if sue < 1000:\r\n",
        "    nsue = sue*1.15\r\n",
        "    nom = nom + nsue\r\n",
        "    print(f\"El Nuevo Sueldo es de {nsue}:\")\r\n",
        "    sue = int(input(\"Introduce el sueldo del trabajador: \"))\r\n",
        "  else:\r\n",
        "    nsue = sue*1.12\r\n",
        "    nom = nom + nsue\r\n",
        "    print(f\"El nuevo sueldo es de {nsue}\")\r\n",
        "    sue = int(input(\"Introduce el sueldo del trabajador: \"))\r\n",
        "else: \r\n",
        "  print(f\"El total de la Nomina {nom}\")"
      ],
      "execution_count": null,
      "outputs": [
        {
          "output_type": "stream",
          "text": [
            "Introduce el sueldo del trabajador: 1200\n",
            "El nuevo sueldo es de 1344.0000000000002\n",
            "Introduce el sueldo del trabajador: -1\n",
            "El total de la Nomina 1344.0000000000002\n"
          ],
          "name": "stdout"
        }
      ]
    },
    {
      "cell_type": "code",
      "metadata": {
        "id": "v-t-j7OC2eaW"
      },
      "source": [
        "#3.5\r\n",
        "sumotr=0\r\n",
        "sumpos=0\r\n",
        "cuepos=0\r\n",
        "n= int (input(\"Ingrese la cantidad de números que desea sumar\\n\"))\r\n",
        "i=1\r\n",
        "for i in range (n):\r\n",
        "  num = int (input(f\"Ingrese el número {i+1}° \\n\"))\r\n",
        "  if (num>0):\r\n",
        "    sumpos=sumpos+num\r\n",
        "    cuepos=cuepos+1 \r\n",
        "    \r\n",
        "  else:\r\n",
        "    sumotr=sumotr+num\r\n",
        "   \r\n",
        "  i=i+1\r\n",
        "\r\n",
        "progen=(sumpos+sumotr)/n\r\n",
        "propos=(sumpos/cuepos)\r\n",
        "\r\n",
        "print(\"La cantidad de números positivos que ingreso fue de:\",cuepos)\r\n",
        "print(\"El promedio general de los números es:\",progen)\r\n",
        "print(\"El promedio de los números positivos ingresados fue de\", propos)"
      ],
      "execution_count": null,
      "outputs": []
    },
    {
      "cell_type": "code",
      "metadata": {
        "id": "WebxCSk_7wAx"
      },
      "source": [
        "#3.6\r\n",
        "may=-100000\r\n",
        "men=100000\r\n",
        "n=int (input(\"Ingrese la cantidad de números a ingresar \\n\"))\r\n",
        "i=1\r\n",
        "for i in range (n):\r\n",
        "  num= int (input(f\"Ingrese el número entero {i+1}° \\n\"))\r\n",
        "  if (num>may):\r\n",
        "    may=num\r\n",
        "  else: \r\n",
        "    if (num<men):\r\n",
        "      men=num\r\n",
        "    else:\r\n",
        "      i=i+1\r\n",
        "\r\n",
        "print(\"El número mayor es:\",may)\r\n",
        "print(\"El número menor es:\", men)"
      ],
      "execution_count": null,
      "outputs": []
    },
    {
      "cell_type": "code",
      "metadata": {
        "id": "s-p8lL6E73RT"
      },
      "source": [
        "#3.7\r\n",
        "med=0\r\n",
        "chi=0\r\n",
        "gra=0\r\n",
        "n=int (input(\"Ingrese la cantidad de ventas que realizo: \\n\"))\r\n",
        "i=1\r\n",
        "for i in range (n):\r\n",
        "  v =float (input(f\"Ingrese el valor de la venta {i+1}\\n $\"))\r\n",
        "  if (v<=200):\r\n",
        "    chi=chi+1\r\n",
        "  elif (v<400):\r\n",
        "    med=med+1\r\n",
        "  else:\r\n",
        "    gra=gra+1\r\n",
        "  i=i+1\r\n",
        "\r\n",
        "print(\"Usted realizo\",chi,\"ventas chicas\")\r\n",
        "print(\"Usted realizo\",med,\"ventas medianas\")\r\n",
        "print(\"Usted realizo\",gra,\"ventas grandes\")"
      ],
      "execution_count": null,
      "outputs": []
    },
    {
      "cell_type": "code",
      "metadata": {
        "id": "1SNw3tL58HnB"
      },
      "source": [
        "#3.8\r\n",
        "num = int (input(\"Ingrese un número positivo y entero \"))\r\n",
        "if (num>0):\r\n",
        "  while (num!=0):\r\n",
        "    print(f\"{num}\")\r\n",
        "    help=-1**num\r\n",
        "    if (help>0):\r\n",
        "      num= div(num,2) \r\n",
        "    else:\r\n",
        "      num= num*3+1\r\n",
        "    \r\n",
        "  print(f\"{num}\")\r\n",
        "\r\n",
        "else:\r\n",
        "  print(\"EL NÚMERO TIENE QUE SER POSITIVO Y ENTERO\\nPOR FAVOR, VERIFIQUE EL DATO DE ENTRADA\")"
      ],
      "execution_count": null,
      "outputs": []
    },
    {
      "cell_type": "code",
      "metadata": {
        "id": "MH0t0uoK8JMK"
      },
      "source": [
        "#3.9\r\n",
        "Serie = 0\r\n",
        "\r\n",
        "N = int(input(\"Colocar el numero de terminos en la serie: \"))\r\n",
        "\r\n",
        "I = 1\r\n",
        "\r\n",
        "while (I <= N):\r\n",
        "  Serie = Serie + (I**I)\r\n",
        "  I = I +1\r\n",
        "print(Serie)"
      ],
      "execution_count": null,
      "outputs": []
    },
    {
      "cell_type": "code",
      "metadata": {
        "id": "hD016gsu8LgT"
      },
      "source": [
        "#3.10\r\n",
        "pri=0\r\n",
        "seg=1\r\n",
        "i=3\r\n",
        "for i in range (180):\r\n",
        "  sig=pri+seg\r\n",
        "  pri=seg\r\n",
        "  seg=sig\r\n",
        "  i=1+1\r\n",
        "\r\n",
        "print(f\"{sig}\")"
      ],
      "execution_count": null,
      "outputs": []
    },
    {
      "cell_type": "code",
      "metadata": {
        "id": "vxRvmLQD8NGD"
      },
      "source": [
        "#3.11\r\n",
        "can1=0\r\n",
        "can2=0\r\n",
        "can3=0\r\n",
        "can4=0\r\n",
        "print(\"Recuerde que solo hay 4 candidatos\")\r\n",
        "voto= int (input(\"INGRESE EL NÚMERO DEL CANDIDATO\\nPARA EL QUE SERA SU VOTO \\n\"))\r\n",
        "while (voto>0) and (voto<5):\r\n",
        "  if (voto == 1):\r\n",
        "    can1=can1+1\r\n",
        "  elif (voto==2):\r\n",
        "    can2=can2+1\r\n",
        "  elif (voto==3):\r\n",
        "    can3=can3+1\r\n",
        "  elif (voto==4):\r\n",
        "    can4=can4+1\r\n",
        "  voto= int (input(\"\\nINGRESE EL NÚMERO DEL CANDIDATO\\nPARA EL QUE SERA SU VOTO \\n\"))\r\n",
        "\r\n",
        "sumv=can1+can2+can3+can4\r\n",
        "por1=(can1/sumv)*100\r\n",
        "por2=(can2/sumv)*100\r\n",
        "por3=(can3/sumv)*100\r\n",
        "por4=(can4/sumv)*100\r\n",
        "\r\n",
        "print(\"En total, se sumaron\",sumv,\"votos\")\r\n",
        "print(\"Los votos que obtuvo el candidato #1 fueron\",can1,\"con un porcentaje del\",por1,\"%\")\r\n",
        "print(\"Los votos que obtuvo el candidato #2 fueron\",can2,\"con un porcentaje del\",por2,\"%\")\r\n",
        "print(\"Los votos que obtuvo el candidato #3 fueron\",can3,\"con un porcentaje del\",por3,\"%\")\r\n",
        "print(\"Los votos que obtuvo el candidato #4 fueron\",can4,\"con un porcentaje del\",por4,\"%\")"
      ],
      "execution_count": null,
      "outputs": []
    },
    {
      "cell_type": "code",
      "metadata": {
        "id": "AtUHe6gd8S01"
      },
      "source": [
        "#3.12\r\n",
        "masue=0\r\n",
        "n= int (input(\"Ingrese la cantidad de empleados\"))\r\n",
        "i=1\r\n",
        "for i in range (n):\r\n",
        "  print(f\"EMPLEADO NUMERO {i+1}\")\r\n",
        "  numemp= int (input(\"Ingrese su número de trabajador\\n\"))\r\n",
        "  sue= float (input(\"Ingrese su sueldo \\n$\"))\r\n",
        "  if (sue>masue):\r\n",
        "    masue= sue\r\n",
        "    manum=numemp\r\n",
        "  i=i+1\r\n",
        "\r\n",
        "print(\"El empleado con mayor sueldo es \",manum)\r\n",
        "print(\"Con un sueldo de $\",masue)"
      ],
      "execution_count": null,
      "outputs": []
    },
    {
      "cell_type": "code",
      "metadata": {
        "id": "SqwtXfCa8UmV"
      },
      "source": [
        "#3.13\r\n",
        "arsu=0\r\n",
        "arno=0\r\n",
        "mersu=500000\r\n",
        "arce=0\r\n",
        "i=1\r\n",
        "for i in range (12):\r\n",
        "  rno=float (input(f\"{i+1}.- Ingrese la cantidad de lluvias que hubo en la REGION NORTE\\n\"))\r\n",
        "  rce=float (input(f\"{i+1}.- Ingrese la cantidad de lluvias que hubo en la REGION CENTRO\\n\"))\r\n",
        "  rsu=float (input(f\"{i+1}.- Ingrese la cantidad de lluvias que hubo en la REGION SUR\\n\"))\r\n",
        "  arno=arno+rno\r\n",
        "  arce=arce+rce\r\n",
        "  arsu=arsu+rsu\r\n",
        "  if (rsu<mersu):\r\n",
        "    mersu=rsu\r\n",
        "    mes=i+1\r\n",
        "  i=i+1\r\n",
        "prorce=arce/12\r\n",
        "print(\"El promedio de lluvia de la region centro es\",prorce,\"%\")\r\n",
        "print(\"El mes con menor lluvia en la región sur fue\",mes)\r\n",
        "print(\"Registro del mes:\",mersu)\r\n",
        "\r\n",
        "if (arno>arce):\r\n",
        "  if (arno>arsu):\r\n",
        "    print(\"La region con mayor lluvia es la region norte\")\r\n",
        "  else: \r\n",
        "    print(\"La region con mayor lluvia es la region sur\")\r\n",
        "else:\r\n",
        "  if (arce>arsu):\r\n",
        "    print(\"La region con mayor lluvia es la region centro\")\r\n",
        "  else:\r\n",
        "    print(\"La region con mayot lluvia es la region sur\")"
      ],
      "execution_count": null,
      "outputs": []
    },
    {
      "cell_type": "code",
      "metadata": {
        "id": "UrsJIeKo8VqO"
      },
      "source": [
        "#3.14\r\n",
        "ap1=0\r\n",
        "ap2=0\r\n",
        "ap3=0\r\n",
        "ap4=0\r\n",
        "ap5=0\r\n",
        "recau=0\r\n",
        "p1=float (input(\"Ingrese el precio de la localidad #1\\n $\"))\r\n",
        "p2=float (input(\"Ingrese el precio de la localidad #2\\n $\"))\r\n",
        "p3=float (input(\"Ingrese el precio de la localidad #3\\n $\"))\r\n",
        "p4=float (input(\"Ingrese el precio de la localidad #4\\n $\"))\r\n",
        "p5=float (input(\"Ingrese el precio de la localidad #5\\n $\"))\r\n",
        "clave=int (input(\"Indique el número de la localidad que desea comprar\\n\"))\r\n",
        "cant= int (input(\"¿Cuantos desea comprar?\\n\"))\r\n",
        "while ((clave!=-1) and (cant!=-1)):\r\n",
        "  if (clave<1) and (clave>4):\r\n",
        "    print(\"No existe esa clave\")\r\n",
        "  elif (clave==1):\r\n",
        "    pre=p1*cant\r\n",
        "    ap1=ap1+cant\r\n",
        "  elif (clave==2):\r\n",
        "    pre=p2*cant\r\n",
        "    ap2=ap2+cant\r\n",
        "  elif (clave==3):\r\n",
        "    pre=p3*cant\r\n",
        "    ap3=ap3+cant\r\n",
        "  elif (clave==4):\r\n",
        "    pre=p4*cant\r\n",
        "    ap4=ap4+cant \r\n",
        "  elif (clave==5):\r\n",
        "    pre=p5*cant\r\n",
        "    ap5=ap5+cant \r\n",
        "\r\n",
        "  print(\"CLAVE DE LOCALIDAD:\",clave,\"\\nCANTIDAD:\",cant,\"\\nPRECIO: $\",pre)  \r\n",
        "  recau=recau+pre\r\n",
        "  clave=int (input(\"Indique el número de la localidad que desea comprar\\n\"))\r\n",
        "  cant= int (input(\"¿Cuantos desea comprar?\\n\"))\r\n",
        "\r\n",
        "print(\"Usted compro\",ap1, \"boletos tipo 1\")\r\n",
        "print(\"Usted compro\",ap2, \"boletos tipo 2\")\r\n",
        "print(\"Usted compro\",ap3, \"boletos tipo 3\")\r\n",
        "print(\"Usted compro\",ap4, \"boletos tipo 4\")\r\n",
        "print(\"Usted compro\",ap5, \"boletos tipo 5\")\r\n",
        "print(\"Recaudacion del estado: $\",recau)"
      ],
      "execution_count": null,
      "outputs": []
    },
    {
      "cell_type": "code",
      "metadata": {
        "id": "FPtXpZlY8af5"
      },
      "source": [
        "#3.15\r\n",
        "cl=0\r\n",
        "cuenta=0\r\n",
        "print(\"TIPOS DE LLAMADAS\\nLOCAL=l   NACIONAL=n    INTERNACIONAL=i   SALIR=x   \")\r\n",
        "tipo= str (input(\"Ingrese el tipo de llamada a realizar\\n\"))\r\n",
        "dur= int (input(\"Indique la duracion de la llamada\\n\"))\r\n",
        "while ((tipo!=\"x\") and (dur!=-1)):\r\n",
        "  if (tipo==\"n\"):\r\n",
        "    if (dur>3):\r\n",
        "      costo=1.20+(dur-3)*0.48\r\n",
        "    else:\r\n",
        "      costo=1.20\r\n",
        "    \r\n",
        "  elif (tipo==\"l\"):\r\n",
        "    cl=cl+1\r\n",
        "    if (cl>50):\r\n",
        "      costo=.60\r\n",
        "    else:\r\n",
        "      costo= 0\r\n",
        "    \r\n",
        "  elif (tipo==\"i\"):\r\n",
        "    if (dur>3):\r\n",
        "      costo=7.59+(dur-3)*3.03\r\n",
        "    else:\r\n",
        "      costo=7.59\r\n",
        "\r\n",
        "  cuenta=cuenta+costo\r\n",
        "  tipo= str (input(\"Ingrese el tipo de llamada a realizar\\n\"))\r\n",
        "  dur= int (input(\"Indique la duracion de la llamada\\n\"))\r\n",
        "\r\n",
        "print(f\"El total a pagar es ${cuenta}\")"
      ],
      "execution_count": null,
      "outputs": []
    },
    {
      "cell_type": "code",
      "metadata": {
        "id": "V503jozj8cIx"
      },
      "source": [
        "#3.16\r\n",
        "tipo1=0\r\n",
        "tipo2=0\r\n",
        "tipo3=0\r\n",
        "tipo4=0\r\n",
        "tipo5=0\r\n",
        "mctipo2=0\r\n",
        "\r\n",
        "n= int (input(\"Ingrese el numero de años ha calcular\"))\r\n",
        "i=1\r\n",
        "for i in range (n):\r\n",
        "  j=1\r\n",
        "  totvin=0\r\n",
        "  for j in range (5):\r\n",
        "    v= float (input(f\"Cantidad de litros del vino {j+11} \"))\r\n",
        "    totvin=totvin+v\r\n",
        "    if (j==1):\r\n",
        "      tipo1=tipo1+v\r\n",
        "\r\n",
        "    elif (j==2):\r\n",
        "      tipo2=tipo2+v\r\n",
        "      if (v >mctipo2):\r\n",
        "        mctipo2=v\r\n",
        "        año=i\r\n",
        "        \r\n",
        "    elif (j==3):\r\n",
        "      tipo3=tipo3+v\r\n",
        "      if (v==0):\r\n",
        "        print(f\"En el año {i+1} no se produjo vino tipo 3 \")\r\n",
        "    \r\n",
        "    elif (j==4):\r\n",
        "      tipo4=tipo4+v\r\n",
        "    \r\n",
        "    elif (j==5):\r\n",
        "      tipo5=tipo5+v\r\n",
        "\r\n",
        "  j=j+1\r\n",
        "\r\n",
        "print(f\"Total tipo 1:{tipo1} \")\r\n",
        "print(f\"Total tipo 2:{tipo2} \")\r\n",
        "print(f\"Total tipo 3:{tipo3} \")\r\n",
        "print(f\"Total tipo 4:{tipo4} \")\r\n",
        "print(f\"Total tipo 5:{tipo5} \")\r\n",
        "print(f\"Año en que se produjo mayor cantidad de vino tipo 2: {año}\\n Litros: {mctipo2} L.\")"
      ],
      "execution_count": null,
      "outputs": []
    }
  ]
}