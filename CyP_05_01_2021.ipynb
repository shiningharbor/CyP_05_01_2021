{
  "nbformat": 4,
  "nbformat_minor": 0,
  "metadata": {
    "colab": {
      "name": "CyP_05_01_2021.ipynb",
      "provenance": [],
      "authorship_tag": "ABX9TyOebbe4AsgRMRSIrnHKF7uj",
      "include_colab_link": true
    },
    "kernelspec": {
      "name": "python3",
      "display_name": "Python 3"
    }
  },
  "cells": [
    {
      "cell_type": "markdown",
      "metadata": {
        "id": "view-in-github",
        "colab_type": "text"
      },
      "source": [
        "<a href=\"https://colab.research.google.com/github/shiningharbor/CyP_05_01_2021/blob/main/CyP_05_01_2021.ipynb\" target=\"_parent\"><img src=\"https://colab.research.google.com/assets/colab-badge.svg\" alt=\"Open In Colab\"/></a>"
      ]
    },
    {
      "cell_type": "code",
      "metadata": {
        "id": "6h8gbdgJ8O8T"
      },
      "source": [
        "#ARREGLO ejemplo\r\n",
        "\r\n",
        "sueldos = [0.0 for x in range(7)]\r\n",
        "print(sueldos)\r\n",
        "sueldos[0]= 12.3\r\n",
        "sueldos[1]= 32.3\r\n",
        "sueldos[2]= 42.3\r\n",
        "sueldos[3]= 172.3\r\n",
        "sueldos[4]= 124.3\r\n",
        "sueldos[5]= 12.23\r\n",
        "sueldos[6]= 123.3\r\n",
        "print(sueldos)"
      ],
      "execution_count": null,
      "outputs": []
    },
    {
      "cell_type": "code",
      "metadata": {
        "id": "Jx-yJcPB8Uv1"
      },
      "source": [
        "s = [0.0 for x  in range(7)] # generador de python, genera los espacios\r\n",
        "for j in range (7): #este for recorre los lugares y los va llenando\r\n",
        "  s[j] = float(input(\"Introduce un sueldo: \"))\r\n",
        "print(s)\r\n"
      ],
      "execution_count": null,
      "outputs": []
    },
    {
      "cell_type": "code",
      "metadata": {
        "id": "CHvlYECP8WsU"
      },
      "source": [
        "#NÚMEROS CONTINUOS EN UN ARREGLO\r\n",
        "sueldo = [float(x) for x in range(7)]\r\n",
        "for i in range(0, 7):\r\n",
        "    sueldo[i] = float(i)+1.0\r\n",
        "print(sueldo)\r\n",
        "\r\n",
        "#AUTOMATIZAR EL RECORRIDO DE LOS ELEMENTOS DEL ARREGLO\r\n",
        "for  i in range(7):\r\n",
        "  print(f\"EL TRABAJADOR {int(i)+1} GANA ${ sueldo[i] }\")"
      ],
      "execution_count": null,
      "outputs": []
    },
    {
      "cell_type": "code",
      "metadata": {
        "id": "Ngn7Piiv8YiV"
      },
      "source": [
        "#EJEMPLO 4.1\r\n",
        "MAXIMO = 7\r\n",
        "sueldos = [ 0.0 for x in range(MAXIMO) ]\r\n",
        "suma = 0.0\r\n",
        "promedio = 0.0\r\n",
        "\r\n",
        "for i in range(MAXIMO):\r\n",
        "  sueldos[i] = float(input(\"DAME EL SUELDO: \"))\r\n",
        "\r\n",
        "for i in range(MAXIMO):\r\n",
        "  print (f\"TRABAJADOR {i+1} ,gana : {sueldos[i]}\")\r\n",
        "\r\n",
        "for i in range(MAXIMO):\r\n",
        "  suma += sueldos[i]\r\n",
        "\r\n",
        "promedio = suma/MAXIMO\r\n",
        "\r\n",
        "print(f\"EL PROMEDIO DE SUELDO ES ${promedio}\")\r\n",
        "\r\n",
        "for i in range(MAXIMO):\r\n",
        "  if (sueldos[i] > promedio):\r\n",
        "    print(f\"EL TRABAJADOR {i+1} tiene un sueldo mayor al promedio\")"
      ],
      "execution_count": null,
      "outputs": []
    },
    {
      "cell_type": "code",
      "metadata": {
        "id": "WVtu30Lj8cBe"
      },
      "source": [
        "#Hacer un programa que solicite 5 valores enteros positivos y \r\n",
        "#una vez que se capturen por teclado, el programa determine:\r\n",
        "# 1.-cuál es el de mayor valor\r\n",
        "# 2.-cuál es el menor\r\n",
        "# 3.-cuál es el promedio\r\n",
        "\r\n",
        "MAY = 0\r\n",
        "MEN = 1000000000\r\n",
        "RAN=5\r\n",
        "sum= 0\r\n",
        "valores = [ 0 for x in range(RAN)]\r\n",
        "\r\n",
        "for i in range(RAN):\r\n",
        "  valores[i] = float(input(\"DAME EL SUELDO: \"))\r\n",
        "  if (valores[i] > MAY):\r\n",
        "    MAY = valores [i]\r\n",
        "  elif (valores[i] <MEN):\r\n",
        "    MEN = valores [i]\r\n",
        "  sum += valores[i]\r\n",
        "promedio = sum/RAN \r\n",
        "\r\n",
        "print(f\"MAYOR VALOR: {MAY}\")\r\n",
        "print(f\"MENOR VALOR: {MEN}\")\r\n",
        "print(f\"PROMEDIO: {promedio}\")\r\n",
        "\r\n",
        "\r\n"
      ],
      "execution_count": null,
      "outputs": []
    },
    {
      "cell_type": "code",
      "metadata": {
        "id": "k_DYheHy8eew"
      },
      "source": [
        "#PROBLEMA 4.1\r\n",
        "N = int(input(\"INGRESE NÚMERO DE ELEMENTOS DEL ARREGLO: \"))\r\n",
        "VEC = []\r\n",
        "if (1 <= N and N <= 500):\r\n",
        "  VEC = [0 for x in range(N)]\r\n",
        "  for i in range(N):\r\n",
        "    VEC [i]= int(input(f\"Ingrese valor {i+1}: \"))\r\n",
        "  print(\"Lista de números; sin repeticiones\")\r\n",
        "  i=0\r\n",
        "  while (i < N):\r\n",
        "    print(VEC[i])\r\n",
        "    REPET = VEC[i]\r\n",
        "    while (i < N and i != N-1 and REPET == VEC[i+1]  :):\r\n",
        "      i +=1\r\n",
        "    i +=1\r\n",
        "  print(\"FIN DEL PROGRAMA\")\r\n",
        "\r\n",
        "  #for i in range(N):\r\n",
        "   # print(VEC[i])\r\n",
        "    #REPET = VEC [i]\r\n",
        "    #while (i <= N and REPET == VEC [i]):\r\n",
        "     # i +=1'''\r\n",
        "\r\n",
        "#3\r\n",
        "else:\r\n",
        "  print(\"El número de elementos del arreglo es incorrecto\")\r\n"
      ],
      "execution_count": null,
      "outputs": []
    },
    {
      "cell_type": "code",
      "metadata": {
        "id": "Bs3It5ZY8fB4"
      },
      "source": [
        "# problema 4.1\r\n",
        "N = int(input(\"Ingrese el nuemro de elementos del arreglo:\"))\r\n",
        "\r\n",
        "if 1 <= N and N <=500:\r\n",
        "    VEC = [0 for x in range(N)] \r\n",
        "    print(VEC)\r\n",
        "    for I in range(N):\r\n",
        "        VEC[I]=int(input(\"Ingrese valor \" + str(I +1) + \":\"))\r\n",
        "    print(\"Lista de nuemeros sin repeticiones:\")\r\n",
        "    I=0\r\n",
        "    while I < N :\r\n",
        "        print(VEC[I])\r\n",
        "        REPET = VEC[I]\r\n",
        "        while I < N and I != N-1 and REPET == VEC[I+1]  :\r\n",
        "            #print(\"incementa I\", I)\r\n",
        "            I = I + 1   \r\n",
        "        I=I+1    \r\n",
        "else:\r\n",
        "  print(\"El número de elementos del arreglo es incorrecto\")"
      ],
      "execution_count": null,
      "outputs": []
    },
    {
      "cell_type": "code",
      "metadata": {
        "id": "RTXoizhd8hWq"
      },
      "source": [
        "#OTRA SOLUCIÓN\r\n",
        "lista = []\r\n",
        "conjunto = []\r\n",
        "ultimo = 0.0\r\n",
        "numero_dato = int(input(\"Numero de datos: \"))\r\n",
        "for i in range(numero_dato):\r\n",
        "    lista.append(float(input(\"Dato: \")))\r\n",
        "conjunto.append(lista[0])\r\n",
        "ultimo = lista[0]\r\n",
        "for index, i in enumerate(lista):\r\n",
        "    if ultimo != i:\r\n",
        "        conjunto.append(i)\r\n",
        "        ultimo = i\r\n",
        "print(lista)\r\n",
        "print(conjunto)"
      ],
      "execution_count": null,
      "outputs": []
    }
  ]
}